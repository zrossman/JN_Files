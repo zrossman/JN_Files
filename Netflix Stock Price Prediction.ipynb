{
 "cells": [
  {
   "cell_type": "markdown",
   "id": "3ab9481a",
   "metadata": {},
   "source": [
    "# Netflix Stock Price Predictor"
   ]
  },
  {
   "cell_type": "markdown",
   "id": "a96d2d17",
   "metadata": {},
   "source": [
    "In this project, we will use certain features regarding the price of Netflix stock in order to predict what the price will be five days later. This model uses multivariable regression."
   ]
  },
  {
   "cell_type": "code",
   "execution_count": 1,
   "id": "ce34605a",
   "metadata": {},
   "outputs": [],
   "source": [
    "import pandas as pd\n",
    "import numpy as np\n",
    "from sklearn.model_selection import train_test_split\n",
    "from sklearn.linear_model import LinearRegression\n",
    "from matplotlib import pyplot as plt\n",
    "from matplotlib import dates as mpl_dates"
   ]
  },
  {
   "cell_type": "markdown",
   "id": "a13f9632",
   "metadata": {},
   "source": [
    "## Analysing the Data"
   ]
  },
  {
   "cell_type": "markdown",
   "id": "7a1868e8",
   "metadata": {},
   "source": [
    "Let's open our dataset and check out the first few rows"
   ]
  },
  {
   "cell_type": "code",
   "execution_count": 2,
   "id": "5d49e19d",
   "metadata": {},
   "outputs": [],
   "source": [
    "df = pd.read_csv('/Users/zacrossman/Downloads/NFLX.csv')"
   ]
  },
  {
   "cell_type": "code",
   "execution_count": 3,
   "id": "f4612d89",
   "metadata": {},
   "outputs": [
    {
     "data": {
      "text/html": [
       "<div>\n",
       "<style scoped>\n",
       "    .dataframe tbody tr th:only-of-type {\n",
       "        vertical-align: middle;\n",
       "    }\n",
       "\n",
       "    .dataframe tbody tr th {\n",
       "        vertical-align: top;\n",
       "    }\n",
       "\n",
       "    .dataframe thead th {\n",
       "        text-align: right;\n",
       "    }\n",
       "</style>\n",
       "<table border=\"1\" class=\"dataframe\">\n",
       "  <thead>\n",
       "    <tr style=\"text-align: right;\">\n",
       "      <th></th>\n",
       "      <th>Date</th>\n",
       "      <th>Open</th>\n",
       "      <th>High</th>\n",
       "      <th>Low</th>\n",
       "      <th>Close</th>\n",
       "      <th>Adj Close</th>\n",
       "      <th>Volume</th>\n",
       "    </tr>\n",
       "  </thead>\n",
       "  <tbody>\n",
       "    <tr>\n",
       "      <th>0</th>\n",
       "      <td>2018-02-05</td>\n",
       "      <td>262.000000</td>\n",
       "      <td>267.899994</td>\n",
       "      <td>250.029999</td>\n",
       "      <td>254.259995</td>\n",
       "      <td>254.259995</td>\n",
       "      <td>11896100</td>\n",
       "    </tr>\n",
       "    <tr>\n",
       "      <th>1</th>\n",
       "      <td>2018-02-06</td>\n",
       "      <td>247.699997</td>\n",
       "      <td>266.700012</td>\n",
       "      <td>245.000000</td>\n",
       "      <td>265.720001</td>\n",
       "      <td>265.720001</td>\n",
       "      <td>12595800</td>\n",
       "    </tr>\n",
       "    <tr>\n",
       "      <th>2</th>\n",
       "      <td>2018-02-07</td>\n",
       "      <td>266.579987</td>\n",
       "      <td>272.450012</td>\n",
       "      <td>264.329987</td>\n",
       "      <td>264.559998</td>\n",
       "      <td>264.559998</td>\n",
       "      <td>8981500</td>\n",
       "    </tr>\n",
       "    <tr>\n",
       "      <th>3</th>\n",
       "      <td>2018-02-08</td>\n",
       "      <td>267.079987</td>\n",
       "      <td>267.619995</td>\n",
       "      <td>250.000000</td>\n",
       "      <td>250.100006</td>\n",
       "      <td>250.100006</td>\n",
       "      <td>9306700</td>\n",
       "    </tr>\n",
       "    <tr>\n",
       "      <th>4</th>\n",
       "      <td>2018-02-09</td>\n",
       "      <td>253.850006</td>\n",
       "      <td>255.800003</td>\n",
       "      <td>236.110001</td>\n",
       "      <td>249.470001</td>\n",
       "      <td>249.470001</td>\n",
       "      <td>16906900</td>\n",
       "    </tr>\n",
       "  </tbody>\n",
       "</table>\n",
       "</div>"
      ],
      "text/plain": [
       "         Date        Open        High         Low       Close   Adj Close  \\\n",
       "0  2018-02-05  262.000000  267.899994  250.029999  254.259995  254.259995   \n",
       "1  2018-02-06  247.699997  266.700012  245.000000  265.720001  265.720001   \n",
       "2  2018-02-07  266.579987  272.450012  264.329987  264.559998  264.559998   \n",
       "3  2018-02-08  267.079987  267.619995  250.000000  250.100006  250.100006   \n",
       "4  2018-02-09  253.850006  255.800003  236.110001  249.470001  249.470001   \n",
       "\n",
       "     Volume  \n",
       "0  11896100  \n",
       "1  12595800  \n",
       "2   8981500  \n",
       "3   9306700  \n",
       "4  16906900  "
      ]
     },
     "execution_count": 3,
     "metadata": {},
     "output_type": "execute_result"
    }
   ],
   "source": [
    "df.head()"
   ]
  },
  {
   "cell_type": "code",
   "execution_count": 4,
   "id": "7eaf1bf7",
   "metadata": {},
   "outputs": [
    {
     "name": "stdout",
     "output_type": "stream",
     "text": [
      "(1009, 7)\n"
     ]
    }
   ],
   "source": [
    "print(df.shape)"
   ]
  },
  {
   "cell_type": "code",
   "execution_count": 5,
   "id": "99e66818",
   "metadata": {},
   "outputs": [
    {
     "name": "stdout",
     "output_type": "stream",
     "text": [
      "<class 'pandas.core.frame.DataFrame'>\n",
      "RangeIndex: 1009 entries, 0 to 1008\n",
      "Data columns (total 7 columns):\n",
      " #   Column     Non-Null Count  Dtype  \n",
      "---  ------     --------------  -----  \n",
      " 0   Date       1009 non-null   object \n",
      " 1   Open       1009 non-null   float64\n",
      " 2   High       1009 non-null   float64\n",
      " 3   Low        1009 non-null   float64\n",
      " 4   Close      1009 non-null   float64\n",
      " 5   Adj Close  1009 non-null   float64\n",
      " 6   Volume     1009 non-null   int64  \n",
      "dtypes: float64(5), int64(1), object(1)\n",
      "memory usage: 55.3+ KB\n"
     ]
    }
   ],
   "source": [
    "df.info()"
   ]
  },
  {
   "cell_type": "markdown",
   "id": "2eb53eea",
   "metadata": {},
   "source": [
    "We see that we have no null values in our data, which is good. Now lets take a closer look at the columns: "
   ]
  },
  {
   "cell_type": "code",
   "execution_count": 6,
   "id": "ac304029",
   "metadata": {},
   "outputs": [
    {
     "data": {
      "text/html": [
       "<div>\n",
       "<style scoped>\n",
       "    .dataframe tbody tr th:only-of-type {\n",
       "        vertical-align: middle;\n",
       "    }\n",
       "\n",
       "    .dataframe tbody tr th {\n",
       "        vertical-align: top;\n",
       "    }\n",
       "\n",
       "    .dataframe thead th {\n",
       "        text-align: right;\n",
       "    }\n",
       "</style>\n",
       "<table border=\"1\" class=\"dataframe\">\n",
       "  <thead>\n",
       "    <tr style=\"text-align: right;\">\n",
       "      <th></th>\n",
       "      <th>Open</th>\n",
       "      <th>High</th>\n",
       "      <th>Low</th>\n",
       "      <th>Close</th>\n",
       "      <th>Adj Close</th>\n",
       "      <th>Volume</th>\n",
       "    </tr>\n",
       "  </thead>\n",
       "  <tbody>\n",
       "    <tr>\n",
       "      <th>count</th>\n",
       "      <td>1009.000000</td>\n",
       "      <td>1009.000000</td>\n",
       "      <td>1009.000000</td>\n",
       "      <td>1009.000000</td>\n",
       "      <td>1009.000000</td>\n",
       "      <td>1.009000e+03</td>\n",
       "    </tr>\n",
       "    <tr>\n",
       "      <th>mean</th>\n",
       "      <td>419.059673</td>\n",
       "      <td>425.320703</td>\n",
       "      <td>412.374044</td>\n",
       "      <td>419.000733</td>\n",
       "      <td>419.000733</td>\n",
       "      <td>7.570685e+06</td>\n",
       "    </tr>\n",
       "    <tr>\n",
       "      <th>std</th>\n",
       "      <td>108.537532</td>\n",
       "      <td>109.262960</td>\n",
       "      <td>107.555867</td>\n",
       "      <td>108.289999</td>\n",
       "      <td>108.289999</td>\n",
       "      <td>5.465535e+06</td>\n",
       "    </tr>\n",
       "    <tr>\n",
       "      <th>min</th>\n",
       "      <td>233.919998</td>\n",
       "      <td>250.649994</td>\n",
       "      <td>231.229996</td>\n",
       "      <td>233.880005</td>\n",
       "      <td>233.880005</td>\n",
       "      <td>1.144000e+06</td>\n",
       "    </tr>\n",
       "    <tr>\n",
       "      <th>25%</th>\n",
       "      <td>331.489990</td>\n",
       "      <td>336.299988</td>\n",
       "      <td>326.000000</td>\n",
       "      <td>331.619995</td>\n",
       "      <td>331.619995</td>\n",
       "      <td>4.091900e+06</td>\n",
       "    </tr>\n",
       "    <tr>\n",
       "      <th>50%</th>\n",
       "      <td>377.769989</td>\n",
       "      <td>383.010010</td>\n",
       "      <td>370.880005</td>\n",
       "      <td>378.670013</td>\n",
       "      <td>378.670013</td>\n",
       "      <td>5.934500e+06</td>\n",
       "    </tr>\n",
       "    <tr>\n",
       "      <th>75%</th>\n",
       "      <td>509.130005</td>\n",
       "      <td>515.630005</td>\n",
       "      <td>502.529999</td>\n",
       "      <td>509.079987</td>\n",
       "      <td>509.079987</td>\n",
       "      <td>9.322400e+06</td>\n",
       "    </tr>\n",
       "    <tr>\n",
       "      <th>max</th>\n",
       "      <td>692.349976</td>\n",
       "      <td>700.989990</td>\n",
       "      <td>686.090027</td>\n",
       "      <td>691.690002</td>\n",
       "      <td>691.690002</td>\n",
       "      <td>5.890430e+07</td>\n",
       "    </tr>\n",
       "  </tbody>\n",
       "</table>\n",
       "</div>"
      ],
      "text/plain": [
       "              Open         High          Low        Close    Adj Close  \\\n",
       "count  1009.000000  1009.000000  1009.000000  1009.000000  1009.000000   \n",
       "mean    419.059673   425.320703   412.374044   419.000733   419.000733   \n",
       "std     108.537532   109.262960   107.555867   108.289999   108.289999   \n",
       "min     233.919998   250.649994   231.229996   233.880005   233.880005   \n",
       "25%     331.489990   336.299988   326.000000   331.619995   331.619995   \n",
       "50%     377.769989   383.010010   370.880005   378.670013   378.670013   \n",
       "75%     509.130005   515.630005   502.529999   509.079987   509.079987   \n",
       "max     692.349976   700.989990   686.090027   691.690002   691.690002   \n",
       "\n",
       "             Volume  \n",
       "count  1.009000e+03  \n",
       "mean   7.570685e+06  \n",
       "std    5.465535e+06  \n",
       "min    1.144000e+06  \n",
       "25%    4.091900e+06  \n",
       "50%    5.934500e+06  \n",
       "75%    9.322400e+06  \n",
       "max    5.890430e+07  "
      ]
     },
     "execution_count": 6,
     "metadata": {},
     "output_type": "execute_result"
    }
   ],
   "source": [
    "df.describe()"
   ]
  },
  {
   "cell_type": "markdown",
   "id": "71206f72",
   "metadata": {},
   "source": [
    "All of our data seems to be pretty close to each other. No feature in particular contains data with massively different means, mins, or maxes. So when we first train our algorithm, we'll leave the data as it is. We can standardize or normalize the data as we see fit upon seeing the results of our model's accuracy. "
   ]
  },
  {
   "cell_type": "markdown",
   "id": "cbd47dc6",
   "metadata": {},
   "source": [
    "## Manipulating the Data"
   ]
  },
  {
   "cell_type": "markdown",
   "id": "f3ed24a9",
   "metadata": {},
   "source": [
    "We won't be needing the 'Adj Close' column, so lets drop it from our data set."
   ]
  },
  {
   "cell_type": "code",
   "execution_count": 7,
   "id": "9d989c30",
   "metadata": {},
   "outputs": [
    {
     "data": {
      "text/html": [
       "<div>\n",
       "<style scoped>\n",
       "    .dataframe tbody tr th:only-of-type {\n",
       "        vertical-align: middle;\n",
       "    }\n",
       "\n",
       "    .dataframe tbody tr th {\n",
       "        vertical-align: top;\n",
       "    }\n",
       "\n",
       "    .dataframe thead th {\n",
       "        text-align: right;\n",
       "    }\n",
       "</style>\n",
       "<table border=\"1\" class=\"dataframe\">\n",
       "  <thead>\n",
       "    <tr style=\"text-align: right;\">\n",
       "      <th></th>\n",
       "      <th>Date</th>\n",
       "      <th>Open</th>\n",
       "      <th>High</th>\n",
       "      <th>Low</th>\n",
       "      <th>Close</th>\n",
       "      <th>Volume</th>\n",
       "    </tr>\n",
       "  </thead>\n",
       "  <tbody>\n",
       "    <tr>\n",
       "      <th>0</th>\n",
       "      <td>2018-02-05</td>\n",
       "      <td>262.000000</td>\n",
       "      <td>267.899994</td>\n",
       "      <td>250.029999</td>\n",
       "      <td>254.259995</td>\n",
       "      <td>11896100</td>\n",
       "    </tr>\n",
       "    <tr>\n",
       "      <th>1</th>\n",
       "      <td>2018-02-06</td>\n",
       "      <td>247.699997</td>\n",
       "      <td>266.700012</td>\n",
       "      <td>245.000000</td>\n",
       "      <td>265.720001</td>\n",
       "      <td>12595800</td>\n",
       "    </tr>\n",
       "    <tr>\n",
       "      <th>2</th>\n",
       "      <td>2018-02-07</td>\n",
       "      <td>266.579987</td>\n",
       "      <td>272.450012</td>\n",
       "      <td>264.329987</td>\n",
       "      <td>264.559998</td>\n",
       "      <td>8981500</td>\n",
       "    </tr>\n",
       "    <tr>\n",
       "      <th>3</th>\n",
       "      <td>2018-02-08</td>\n",
       "      <td>267.079987</td>\n",
       "      <td>267.619995</td>\n",
       "      <td>250.000000</td>\n",
       "      <td>250.100006</td>\n",
       "      <td>9306700</td>\n",
       "    </tr>\n",
       "    <tr>\n",
       "      <th>4</th>\n",
       "      <td>2018-02-09</td>\n",
       "      <td>253.850006</td>\n",
       "      <td>255.800003</td>\n",
       "      <td>236.110001</td>\n",
       "      <td>249.470001</td>\n",
       "      <td>16906900</td>\n",
       "    </tr>\n",
       "  </tbody>\n",
       "</table>\n",
       "</div>"
      ],
      "text/plain": [
       "         Date        Open        High         Low       Close    Volume\n",
       "0  2018-02-05  262.000000  267.899994  250.029999  254.259995  11896100\n",
       "1  2018-02-06  247.699997  266.700012  245.000000  265.720001  12595800\n",
       "2  2018-02-07  266.579987  272.450012  264.329987  264.559998   8981500\n",
       "3  2018-02-08  267.079987  267.619995  250.000000  250.100006   9306700\n",
       "4  2018-02-09  253.850006  255.800003  236.110001  249.470001  16906900"
      ]
     },
     "execution_count": 7,
     "metadata": {},
     "output_type": "execute_result"
    }
   ],
   "source": [
    "df = df.drop(['Adj Close'], axis = 1)\n",
    "df.head()"
   ]
  },
  {
   "cell_type": "markdown",
   "id": "9c9f7923",
   "metadata": {},
   "source": [
    "Now we have our relevant columns. We are going to try to predict the 'Close' Value five days in advance, using the other values in our data set. So we need to make a label column that represents the 'Close' value five days later, in relation to that row. "
   ]
  },
  {
   "cell_type": "code",
   "execution_count": 8,
   "id": "4bdf95d7",
   "metadata": {},
   "outputs": [
    {
     "data": {
      "text/html": [
       "<div>\n",
       "<style scoped>\n",
       "    .dataframe tbody tr th:only-of-type {\n",
       "        vertical-align: middle;\n",
       "    }\n",
       "\n",
       "    .dataframe tbody tr th {\n",
       "        vertical-align: top;\n",
       "    }\n",
       "\n",
       "    .dataframe thead th {\n",
       "        text-align: right;\n",
       "    }\n",
       "</style>\n",
       "<table border=\"1\" class=\"dataframe\">\n",
       "  <thead>\n",
       "    <tr style=\"text-align: right;\">\n",
       "      <th></th>\n",
       "      <th>Date</th>\n",
       "      <th>Open</th>\n",
       "      <th>High</th>\n",
       "      <th>Low</th>\n",
       "      <th>Close</th>\n",
       "      <th>Volume</th>\n",
       "      <th>Label</th>\n",
       "    </tr>\n",
       "  </thead>\n",
       "  <tbody>\n",
       "    <tr>\n",
       "      <th>0</th>\n",
       "      <td>2018-02-05</td>\n",
       "      <td>262.000000</td>\n",
       "      <td>267.899994</td>\n",
       "      <td>250.029999</td>\n",
       "      <td>254.259995</td>\n",
       "      <td>11896100</td>\n",
       "      <td>257.950012</td>\n",
       "    </tr>\n",
       "    <tr>\n",
       "      <th>1</th>\n",
       "      <td>2018-02-06</td>\n",
       "      <td>247.699997</td>\n",
       "      <td>266.700012</td>\n",
       "      <td>245.000000</td>\n",
       "      <td>265.720001</td>\n",
       "      <td>12595800</td>\n",
       "      <td>258.269989</td>\n",
       "    </tr>\n",
       "    <tr>\n",
       "      <th>2</th>\n",
       "      <td>2018-02-07</td>\n",
       "      <td>266.579987</td>\n",
       "      <td>272.450012</td>\n",
       "      <td>264.329987</td>\n",
       "      <td>264.559998</td>\n",
       "      <td>8981500</td>\n",
       "      <td>266.000000</td>\n",
       "    </tr>\n",
       "    <tr>\n",
       "      <th>3</th>\n",
       "      <td>2018-02-08</td>\n",
       "      <td>267.079987</td>\n",
       "      <td>267.619995</td>\n",
       "      <td>250.000000</td>\n",
       "      <td>250.100006</td>\n",
       "      <td>9306700</td>\n",
       "      <td>280.269989</td>\n",
       "    </tr>\n",
       "    <tr>\n",
       "      <th>4</th>\n",
       "      <td>2018-02-09</td>\n",
       "      <td>253.850006</td>\n",
       "      <td>255.800003</td>\n",
       "      <td>236.110001</td>\n",
       "      <td>249.470001</td>\n",
       "      <td>16906900</td>\n",
       "      <td>278.519989</td>\n",
       "    </tr>\n",
       "    <tr>\n",
       "      <th>5</th>\n",
       "      <td>2018-02-12</td>\n",
       "      <td>252.139999</td>\n",
       "      <td>259.149994</td>\n",
       "      <td>249.000000</td>\n",
       "      <td>257.950012</td>\n",
       "      <td>8534900</td>\n",
       "      <td>278.549988</td>\n",
       "    </tr>\n",
       "    <tr>\n",
       "      <th>6</th>\n",
       "      <td>2018-02-13</td>\n",
       "      <td>257.290009</td>\n",
       "      <td>261.410004</td>\n",
       "      <td>254.699997</td>\n",
       "      <td>258.269989</td>\n",
       "      <td>6855200</td>\n",
       "      <td>281.040009</td>\n",
       "    </tr>\n",
       "    <tr>\n",
       "      <th>7</th>\n",
       "      <td>2018-02-14</td>\n",
       "      <td>260.470001</td>\n",
       "      <td>269.880005</td>\n",
       "      <td>260.329987</td>\n",
       "      <td>266.000000</td>\n",
       "      <td>10972000</td>\n",
       "      <td>278.140015</td>\n",
       "    </tr>\n",
       "    <tr>\n",
       "      <th>8</th>\n",
       "      <td>2018-02-15</td>\n",
       "      <td>270.029999</td>\n",
       "      <td>280.500000</td>\n",
       "      <td>267.630005</td>\n",
       "      <td>280.269989</td>\n",
       "      <td>10759700</td>\n",
       "      <td>285.929993</td>\n",
       "    </tr>\n",
       "    <tr>\n",
       "      <th>9</th>\n",
       "      <td>2018-02-16</td>\n",
       "      <td>278.730011</td>\n",
       "      <td>281.959991</td>\n",
       "      <td>275.690002</td>\n",
       "      <td>278.519989</td>\n",
       "      <td>8312400</td>\n",
       "      <td>294.160004</td>\n",
       "    </tr>\n",
       "  </tbody>\n",
       "</table>\n",
       "</div>"
      ],
      "text/plain": [
       "         Date        Open        High         Low       Close    Volume  \\\n",
       "0  2018-02-05  262.000000  267.899994  250.029999  254.259995  11896100   \n",
       "1  2018-02-06  247.699997  266.700012  245.000000  265.720001  12595800   \n",
       "2  2018-02-07  266.579987  272.450012  264.329987  264.559998   8981500   \n",
       "3  2018-02-08  267.079987  267.619995  250.000000  250.100006   9306700   \n",
       "4  2018-02-09  253.850006  255.800003  236.110001  249.470001  16906900   \n",
       "5  2018-02-12  252.139999  259.149994  249.000000  257.950012   8534900   \n",
       "6  2018-02-13  257.290009  261.410004  254.699997  258.269989   6855200   \n",
       "7  2018-02-14  260.470001  269.880005  260.329987  266.000000  10972000   \n",
       "8  2018-02-15  270.029999  280.500000  267.630005  280.269989  10759700   \n",
       "9  2018-02-16  278.730011  281.959991  275.690002  278.519989   8312400   \n",
       "\n",
       "        Label  \n",
       "0  257.950012  \n",
       "1  258.269989  \n",
       "2  266.000000  \n",
       "3  280.269989  \n",
       "4  278.519989  \n",
       "5  278.549988  \n",
       "6  281.040009  \n",
       "7  278.140015  \n",
       "8  285.929993  \n",
       "9  294.160004  "
      ]
     },
     "execution_count": 8,
     "metadata": {},
     "output_type": "execute_result"
    }
   ],
   "source": [
    "df['Label'] = df['Close'].shift(-5)\n",
    "df.head(n = 10)"
   ]
  },
  {
   "cell_type": "markdown",
   "id": "15ad3c26",
   "metadata": {},
   "source": [
    "As we can see, our Label value for row 0 is the Close value for row 5, which is exactly what we want. Now, since the label column is essentially the Close column shifted up 5 rows, lets take a look at the end of our dataset to see what the implications of that shift are."
   ]
  },
  {
   "cell_type": "code",
   "execution_count": 9,
   "id": "077c4adb",
   "metadata": {},
   "outputs": [
    {
     "data": {
      "text/html": [
       "<div>\n",
       "<style scoped>\n",
       "    .dataframe tbody tr th:only-of-type {\n",
       "        vertical-align: middle;\n",
       "    }\n",
       "\n",
       "    .dataframe tbody tr th {\n",
       "        vertical-align: top;\n",
       "    }\n",
       "\n",
       "    .dataframe thead th {\n",
       "        text-align: right;\n",
       "    }\n",
       "</style>\n",
       "<table border=\"1\" class=\"dataframe\">\n",
       "  <thead>\n",
       "    <tr style=\"text-align: right;\">\n",
       "      <th></th>\n",
       "      <th>Date</th>\n",
       "      <th>Open</th>\n",
       "      <th>High</th>\n",
       "      <th>Low</th>\n",
       "      <th>Close</th>\n",
       "      <th>Volume</th>\n",
       "      <th>Label</th>\n",
       "    </tr>\n",
       "  </thead>\n",
       "  <tbody>\n",
       "    <tr>\n",
       "      <th>999</th>\n",
       "      <td>2022-01-24</td>\n",
       "      <td>383.910004</td>\n",
       "      <td>387.260010</td>\n",
       "      <td>351.459991</td>\n",
       "      <td>387.149994</td>\n",
       "      <td>32346000</td>\n",
       "      <td>427.140015</td>\n",
       "    </tr>\n",
       "    <tr>\n",
       "      <th>1000</th>\n",
       "      <td>2022-01-25</td>\n",
       "      <td>379.140015</td>\n",
       "      <td>387.709991</td>\n",
       "      <td>365.130005</td>\n",
       "      <td>366.420013</td>\n",
       "      <td>15145800</td>\n",
       "      <td>457.130005</td>\n",
       "    </tr>\n",
       "    <tr>\n",
       "      <th>1001</th>\n",
       "      <td>2022-01-26</td>\n",
       "      <td>378.269989</td>\n",
       "      <td>382.660004</td>\n",
       "      <td>356.619995</td>\n",
       "      <td>359.700012</td>\n",
       "      <td>12684000</td>\n",
       "      <td>429.480011</td>\n",
       "    </tr>\n",
       "    <tr>\n",
       "      <th>1002</th>\n",
       "      <td>2022-01-27</td>\n",
       "      <td>382.059998</td>\n",
       "      <td>394.799988</td>\n",
       "      <td>378.100006</td>\n",
       "      <td>386.700012</td>\n",
       "      <td>24324700</td>\n",
       "      <td>405.600006</td>\n",
       "    </tr>\n",
       "    <tr>\n",
       "      <th>1003</th>\n",
       "      <td>2022-01-28</td>\n",
       "      <td>386.760010</td>\n",
       "      <td>387.000000</td>\n",
       "      <td>372.079987</td>\n",
       "      <td>384.359985</td>\n",
       "      <td>11966600</td>\n",
       "      <td>410.170013</td>\n",
       "    </tr>\n",
       "    <tr>\n",
       "      <th>1004</th>\n",
       "      <td>2022-01-31</td>\n",
       "      <td>401.970001</td>\n",
       "      <td>427.700012</td>\n",
       "      <td>398.200012</td>\n",
       "      <td>427.140015</td>\n",
       "      <td>20047500</td>\n",
       "      <td>NaN</td>\n",
       "    </tr>\n",
       "    <tr>\n",
       "      <th>1005</th>\n",
       "      <td>2022-02-01</td>\n",
       "      <td>432.959991</td>\n",
       "      <td>458.480011</td>\n",
       "      <td>425.540009</td>\n",
       "      <td>457.130005</td>\n",
       "      <td>22542300</td>\n",
       "      <td>NaN</td>\n",
       "    </tr>\n",
       "    <tr>\n",
       "      <th>1006</th>\n",
       "      <td>2022-02-02</td>\n",
       "      <td>448.250000</td>\n",
       "      <td>451.980011</td>\n",
       "      <td>426.480011</td>\n",
       "      <td>429.480011</td>\n",
       "      <td>14346000</td>\n",
       "      <td>NaN</td>\n",
       "    </tr>\n",
       "    <tr>\n",
       "      <th>1007</th>\n",
       "      <td>2022-02-03</td>\n",
       "      <td>421.440002</td>\n",
       "      <td>429.260010</td>\n",
       "      <td>404.279999</td>\n",
       "      <td>405.600006</td>\n",
       "      <td>9905200</td>\n",
       "      <td>NaN</td>\n",
       "    </tr>\n",
       "    <tr>\n",
       "      <th>1008</th>\n",
       "      <td>2022-02-04</td>\n",
       "      <td>407.309998</td>\n",
       "      <td>412.769989</td>\n",
       "      <td>396.640015</td>\n",
       "      <td>410.170013</td>\n",
       "      <td>7782400</td>\n",
       "      <td>NaN</td>\n",
       "    </tr>\n",
       "  </tbody>\n",
       "</table>\n",
       "</div>"
      ],
      "text/plain": [
       "            Date        Open        High         Low       Close    Volume  \\\n",
       "999   2022-01-24  383.910004  387.260010  351.459991  387.149994  32346000   \n",
       "1000  2022-01-25  379.140015  387.709991  365.130005  366.420013  15145800   \n",
       "1001  2022-01-26  378.269989  382.660004  356.619995  359.700012  12684000   \n",
       "1002  2022-01-27  382.059998  394.799988  378.100006  386.700012  24324700   \n",
       "1003  2022-01-28  386.760010  387.000000  372.079987  384.359985  11966600   \n",
       "1004  2022-01-31  401.970001  427.700012  398.200012  427.140015  20047500   \n",
       "1005  2022-02-01  432.959991  458.480011  425.540009  457.130005  22542300   \n",
       "1006  2022-02-02  448.250000  451.980011  426.480011  429.480011  14346000   \n",
       "1007  2022-02-03  421.440002  429.260010  404.279999  405.600006   9905200   \n",
       "1008  2022-02-04  407.309998  412.769989  396.640015  410.170013   7782400   \n",
       "\n",
       "           Label  \n",
       "999   427.140015  \n",
       "1000  457.130005  \n",
       "1001  429.480011  \n",
       "1002  405.600006  \n",
       "1003  410.170013  \n",
       "1004         NaN  \n",
       "1005         NaN  \n",
       "1006         NaN  \n",
       "1007         NaN  \n",
       "1008         NaN  "
      ]
     },
     "execution_count": 9,
     "metadata": {},
     "output_type": "execute_result"
    }
   ],
   "source": [
    "df.tail(n = 10)"
   ]
  },
  {
   "cell_type": "markdown",
   "id": "b05ede76",
   "metadata": {},
   "source": [
    "We can't work with null data, which makes of the last five values of our Label column. We'll still have 1003 rows to work will, so we can just go ahead and delete those rows will null values. "
   ]
  },
  {
   "cell_type": "code",
   "execution_count": 10,
   "id": "67abe7df",
   "metadata": {},
   "outputs": [
    {
     "data": {
      "text/html": [
       "<div>\n",
       "<style scoped>\n",
       "    .dataframe tbody tr th:only-of-type {\n",
       "        vertical-align: middle;\n",
       "    }\n",
       "\n",
       "    .dataframe tbody tr th {\n",
       "        vertical-align: top;\n",
       "    }\n",
       "\n",
       "    .dataframe thead th {\n",
       "        text-align: right;\n",
       "    }\n",
       "</style>\n",
       "<table border=\"1\" class=\"dataframe\">\n",
       "  <thead>\n",
       "    <tr style=\"text-align: right;\">\n",
       "      <th></th>\n",
       "      <th>Date</th>\n",
       "      <th>Open</th>\n",
       "      <th>High</th>\n",
       "      <th>Low</th>\n",
       "      <th>Close</th>\n",
       "      <th>Volume</th>\n",
       "      <th>Label</th>\n",
       "    </tr>\n",
       "  </thead>\n",
       "  <tbody>\n",
       "    <tr>\n",
       "      <th>994</th>\n",
       "      <td>2022-01-14</td>\n",
       "      <td>517.599976</td>\n",
       "      <td>538.369995</td>\n",
       "      <td>511.880005</td>\n",
       "      <td>525.690002</td>\n",
       "      <td>7849400</td>\n",
       "      <td>387.149994</td>\n",
       "    </tr>\n",
       "    <tr>\n",
       "      <th>995</th>\n",
       "      <td>2022-01-18</td>\n",
       "      <td>520.080017</td>\n",
       "      <td>521.750000</td>\n",
       "      <td>508.679993</td>\n",
       "      <td>510.799988</td>\n",
       "      <td>4839100</td>\n",
       "      <td>366.420013</td>\n",
       "    </tr>\n",
       "    <tr>\n",
       "      <th>996</th>\n",
       "      <td>2022-01-19</td>\n",
       "      <td>515.000000</td>\n",
       "      <td>523.210022</td>\n",
       "      <td>510.510010</td>\n",
       "      <td>515.859985</td>\n",
       "      <td>4353500</td>\n",
       "      <td>359.700012</td>\n",
       "    </tr>\n",
       "    <tr>\n",
       "      <th>997</th>\n",
       "      <td>2022-01-20</td>\n",
       "      <td>517.750000</td>\n",
       "      <td>526.640015</td>\n",
       "      <td>506.929993</td>\n",
       "      <td>508.250000</td>\n",
       "      <td>12659000</td>\n",
       "      <td>386.700012</td>\n",
       "    </tr>\n",
       "    <tr>\n",
       "      <th>998</th>\n",
       "      <td>2022-01-21</td>\n",
       "      <td>400.429993</td>\n",
       "      <td>409.149994</td>\n",
       "      <td>379.989990</td>\n",
       "      <td>397.500000</td>\n",
       "      <td>58904300</td>\n",
       "      <td>384.359985</td>\n",
       "    </tr>\n",
       "    <tr>\n",
       "      <th>999</th>\n",
       "      <td>2022-01-24</td>\n",
       "      <td>383.910004</td>\n",
       "      <td>387.260010</td>\n",
       "      <td>351.459991</td>\n",
       "      <td>387.149994</td>\n",
       "      <td>32346000</td>\n",
       "      <td>427.140015</td>\n",
       "    </tr>\n",
       "    <tr>\n",
       "      <th>1000</th>\n",
       "      <td>2022-01-25</td>\n",
       "      <td>379.140015</td>\n",
       "      <td>387.709991</td>\n",
       "      <td>365.130005</td>\n",
       "      <td>366.420013</td>\n",
       "      <td>15145800</td>\n",
       "      <td>457.130005</td>\n",
       "    </tr>\n",
       "    <tr>\n",
       "      <th>1001</th>\n",
       "      <td>2022-01-26</td>\n",
       "      <td>378.269989</td>\n",
       "      <td>382.660004</td>\n",
       "      <td>356.619995</td>\n",
       "      <td>359.700012</td>\n",
       "      <td>12684000</td>\n",
       "      <td>429.480011</td>\n",
       "    </tr>\n",
       "    <tr>\n",
       "      <th>1002</th>\n",
       "      <td>2022-01-27</td>\n",
       "      <td>382.059998</td>\n",
       "      <td>394.799988</td>\n",
       "      <td>378.100006</td>\n",
       "      <td>386.700012</td>\n",
       "      <td>24324700</td>\n",
       "      <td>405.600006</td>\n",
       "    </tr>\n",
       "    <tr>\n",
       "      <th>1003</th>\n",
       "      <td>2022-01-28</td>\n",
       "      <td>386.760010</td>\n",
       "      <td>387.000000</td>\n",
       "      <td>372.079987</td>\n",
       "      <td>384.359985</td>\n",
       "      <td>11966600</td>\n",
       "      <td>410.170013</td>\n",
       "    </tr>\n",
       "  </tbody>\n",
       "</table>\n",
       "</div>"
      ],
      "text/plain": [
       "            Date        Open        High         Low       Close    Volume  \\\n",
       "994   2022-01-14  517.599976  538.369995  511.880005  525.690002   7849400   \n",
       "995   2022-01-18  520.080017  521.750000  508.679993  510.799988   4839100   \n",
       "996   2022-01-19  515.000000  523.210022  510.510010  515.859985   4353500   \n",
       "997   2022-01-20  517.750000  526.640015  506.929993  508.250000  12659000   \n",
       "998   2022-01-21  400.429993  409.149994  379.989990  397.500000  58904300   \n",
       "999   2022-01-24  383.910004  387.260010  351.459991  387.149994  32346000   \n",
       "1000  2022-01-25  379.140015  387.709991  365.130005  366.420013  15145800   \n",
       "1001  2022-01-26  378.269989  382.660004  356.619995  359.700012  12684000   \n",
       "1002  2022-01-27  382.059998  394.799988  378.100006  386.700012  24324700   \n",
       "1003  2022-01-28  386.760010  387.000000  372.079987  384.359985  11966600   \n",
       "\n",
       "           Label  \n",
       "994   387.149994  \n",
       "995   366.420013  \n",
       "996   359.700012  \n",
       "997   386.700012  \n",
       "998   384.359985  \n",
       "999   427.140015  \n",
       "1000  457.130005  \n",
       "1001  429.480011  \n",
       "1002  405.600006  \n",
       "1003  410.170013  "
      ]
     },
     "execution_count": 10,
     "metadata": {},
     "output_type": "execute_result"
    }
   ],
   "source": [
    "df.dropna(axis = 0, inplace = True)\n",
    "df.tail(n = 10)"
   ]
  },
  {
   "cell_type": "markdown",
   "id": "7d48b6ce",
   "metadata": {},
   "source": [
    "Now our data should be all set to go! Our next step is to convert our feature columns and our label column into arrays."
   ]
  },
  {
   "cell_type": "code",
   "execution_count": 11,
   "id": "8ade2e00",
   "metadata": {},
   "outputs": [],
   "source": [
    "X = np.array(df.drop(['Label', 'Date'], axis = 1))\n",
    "y = np.array(df['Label'])"
   ]
  },
  {
   "cell_type": "markdown",
   "id": "edee4386",
   "metadata": {},
   "source": [
    "Now that our data is fully prepared and has been converted to arrays, we can split our data into training data and testing data. "
   ]
  },
  {
   "cell_type": "code",
   "execution_count": 12,
   "id": "d2ad02d9",
   "metadata": {},
   "outputs": [
    {
     "name": "stdout",
     "output_type": "stream",
     "text": [
      "Training data shape: (803, 5) (803,)\n",
      "\n",
      "Test data shape: (201, 5) (201,)\n",
      "\n"
     ]
    }
   ],
   "source": [
    "X_train, X_test, y_train, y_test = train_test_split(X, y, test_size = .2, random_state = 0)\n",
    "\n",
    "print('Training data shape:',X_train.shape, y_train.shape)\n",
    "print()\n",
    "print('Test data shape:', X_test.shape, y_test.shape)\n",
    "print()"
   ]
  },
  {
   "cell_type": "markdown",
   "id": "5a882ddb",
   "metadata": {},
   "source": [
    "As we can see, our training input data has 803 rows and 5 columns, and our training output data has 803 rows and just one column, as we are just predicting one output per row. Our test data is smaller, and only contains 201 rows."
   ]
  },
  {
   "cell_type": "markdown",
   "id": "ffbe00a1",
   "metadata": {},
   "source": [
    "## Training and Implementing our Model"
   ]
  },
  {
   "cell_type": "markdown",
   "id": "9b3bbbd0",
   "metadata": {},
   "source": [
    "Now lets use scikit learn to create a line of best fit for our linear regression model. "
   ]
  },
  {
   "cell_type": "code",
   "execution_count": 13,
   "id": "bb9aec99",
   "metadata": {},
   "outputs": [
    {
     "data": {
      "text/plain": [
       "LinearRegression()"
      ]
     },
     "execution_count": 13,
     "metadata": {},
     "output_type": "execute_result"
    }
   ],
   "source": [
    "regressor = LinearRegression()\n",
    "regressor.fit(X_train, y_train)"
   ]
  },
  {
   "cell_type": "markdown",
   "id": "80535ea8",
   "metadata": {},
   "source": [
    "Now lets use our newly created model to make a prediction on our test data, and compare our predictions to the actual data. "
   ]
  },
  {
   "cell_type": "code",
   "execution_count": 14,
   "id": "f4a439ef",
   "metadata": {},
   "outputs": [
    {
     "name": "stdout",
     "output_type": "stream",
     "text": [
      "First five predicted prices: [545.14571937 485.41255794 349.57839191 380.19445185 439.61302598]\n",
      "\n",
      "First five actual prices: [582.070007 507.76001  377.339996 366.600006 447.670013]\n",
      "\n",
      "Side by side comparison: [[545.145719370326, 582.070007], [485.4125579423162, 507.76001], [349.57839191424495, 377.339996], [380.19445185409984, 366.600006], [439.61302598490755, 447.670013]]\n",
      "\n",
      "Accuracy: 0.9500835813989353\n"
     ]
    }
   ],
   "source": [
    "y_pred = regressor.predict(X_test)\n",
    "print('First five predicted prices:', y_pred[:5])\n",
    "print()\n",
    "print('First five actual prices:', y_test[:5])\n",
    "print()\n",
    "\n",
    "comparison = []\n",
    "for i in range(len(y_test)):\n",
    "    a_list = []\n",
    "    a_list.append(y_pred[i])\n",
    "    a_list.append(y_test[i])\n",
    "    comparison.append(a_list)\n",
    "print('Side by side comparison:', comparison[:5])\n",
    "print()\n",
    "\n",
    "accuracy = regressor.score(X_test, y_test)\n",
    "print('Accuracy:', accuracy)"
   ]
  },
  {
   "cell_type": "markdown",
   "id": "d23fc9f8",
   "metadata": {},
   "source": [
    "Lets round these prices to the nearest integer to increase readability"
   ]
  },
  {
   "cell_type": "code",
   "execution_count": 15,
   "id": "8b9592f8",
   "metadata": {},
   "outputs": [
    {
     "name": "stdout",
     "output_type": "stream",
     "text": [
      "[545. 485. 350. 380. 440.]\n"
     ]
    }
   ],
   "source": [
    "y_pred = np.round(y_pred)\n",
    "print(y_pred[:5])"
   ]
  },
  {
   "cell_type": "code",
   "execution_count": 16,
   "id": "70b1fe39",
   "metadata": {},
   "outputs": [
    {
     "name": "stdout",
     "output_type": "stream",
     "text": [
      "[582. 508. 377. 367. 448.]\n"
     ]
    }
   ],
   "source": [
    "y_test = np.round(y_test)\n",
    "print(y_test[:5])"
   ]
  },
  {
   "cell_type": "code",
   "execution_count": 17,
   "id": "4aefdf9a",
   "metadata": {},
   "outputs": [
    {
     "name": "stdout",
     "output_type": "stream",
     "text": [
      "Side by side comparison: [[545.0, 582.0], [485.0, 508.0], [350.0, 377.0], [380.0, 367.0], [440.0, 448.0]]\n",
      "\n",
      "Accuracy: 0.9500835813989353\n"
     ]
    }
   ],
   "source": [
    "comparison = []\n",
    "for i in range(len(y_test)):\n",
    "    a_list = []\n",
    "    a_list.append(y_pred[i])\n",
    "    a_list.append(y_test[i])\n",
    "    comparison.append(a_list)\n",
    "print('Side by side comparison:', comparison[:5])\n",
    "print()\n",
    "print('Accuracy:', accuracy)"
   ]
  },
  {
   "cell_type": "markdown",
   "id": "f398ee09",
   "metadata": {},
   "source": [
    "## Visualizing our Model's Predictions"
   ]
  },
  {
   "cell_type": "code",
   "execution_count": 18,
   "id": "a1287dc4",
   "metadata": {},
   "outputs": [
    {
     "data": {
      "image/png": "[encoded data removed]",
      "text/plain": [
       "<Figure size 640x480 with 1 Axes>"
      ]
     },
     "metadata": {},
     "output_type": "display_data"
    }
   ],
   "source": [
    "recent_pred = y_pred[-10:]\n",
    "recent_test = y_test[-10:]\n",
    "\n",
    "date = df['Date']\n",
    "recent_dates = date[-10:]\n",
    "\n",
    "plt.plot_date(recent_dates, recent_pred, linestyle = 'solid')\n",
    "plt.plot_date(recent_dates, recent_test, linestyle = 'solid')\n",
    "plt.gcf().autofmt_xdate()\n",
    "plt.title('Netlix Prices')\n",
    "plt.xlabel('Date')\n",
    "plt.ylabel('Price')\n",
    "plt.legend(['Prediction', 'Actual'], loc = 4)\n",
    "plt.tight_layout()\n",
    "plt.show()"
   ]
  },
  {
   "cell_type": "markdown",
   "id": "42ee2f1f",
   "metadata": {},
   "source": [
    "Our graph confirms our accuracy (squared error) outputs in the high 90's, showing our model is strong at predicting the stock price five days in advance. "
   ]
  },
  {
   "cell_type": "code",
   "execution_count": null,
   "id": "1f060c6b",
   "metadata": {},
   "outputs": [],
   "source": []
  }
 ],
 "metadata": {
  "kernelspec": {
   "display_name": "Python 3 (ipykernel)",
   "language": "python",
   "name": "python3"
  },
  "language_info": {
   "codemirror_mode": {
    "name": "ipython",
    "version": 3
   },
   "file_extension": ".py",
   "mimetype": "text/x-python",
   "name": "python",
   "nbconvert_exporter": "python",
   "pygments_lexer": "ipython3",
   "version": "3.9.13"
  }
 },
 "nbformat": 4,
 "nbformat_minor": 5
}
