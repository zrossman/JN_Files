{
 "cells": [
  {
   "cell_type": "markdown",
   "id": "e0792b85",
   "metadata": {},
   "source": [
    "# MLB Hit Predictor"
   ]
  },
  {
   "cell_type": "markdown",
   "id": "75c6ed07",
   "metadata": {},
   "source": [
    "This program uses data from the 2021 MLB season to predict whether a batted ball in play will be an out or a hit, based on the exit velocity and launch angle off the bat. "
   ]
  },
  {
   "cell_type": "code",
   "execution_count": 1,
   "id": "8c173c30",
   "metadata": {},
   "outputs": [],
   "source": [
    "import pandas as pd\n",
    "import numpy as np\n",
    "from sklearn.model_selection import train_test_split\n",
    "from sklearn.linear_model import LinearRegression"
   ]
  },
  {
   "cell_type": "markdown",
   "id": "21c8ef6c",
   "metadata": {},
   "source": [
    "## Analysing our Data"
   ]
  },
  {
   "cell_type": "markdown",
   "id": "b71a210d",
   "metadata": {},
   "source": [
    "Lets open our data set and check it out."
   ]
  },
  {
   "cell_type": "code",
   "execution_count": 2,
   "id": "6b1ee069",
   "metadata": {},
   "outputs": [
    {
     "data": {
      "text/html": [
       "<div>\n",
       "<style scoped>\n",
       "    .dataframe tbody tr th:only-of-type {\n",
       "        vertical-align: middle;\n",
       "    }\n",
       "\n",
       "    .dataframe tbody tr th {\n",
       "        vertical-align: top;\n",
       "    }\n",
       "\n",
       "    .dataframe thead th {\n",
       "        text-align: right;\n",
       "    }\n",
       "</style>\n",
       "<table border=\"1\" class=\"dataframe\">\n",
       "  <thead>\n",
       "    <tr style=\"text-align: right;\">\n",
       "      <th></th>\n",
       "      <th>Unnamed: 0</th>\n",
       "      <th>pitch_type</th>\n",
       "      <th>game_date</th>\n",
       "      <th>release_speed</th>\n",
       "      <th>release_pos_x</th>\n",
       "      <th>release_pos_z</th>\n",
       "      <th>player_name</th>\n",
       "      <th>batter</th>\n",
       "      <th>pitcher</th>\n",
       "      <th>events</th>\n",
       "      <th>...</th>\n",
       "      <th>fld_score</th>\n",
       "      <th>post_away_score</th>\n",
       "      <th>post_home_score</th>\n",
       "      <th>post_bat_score</th>\n",
       "      <th>post_fld_score</th>\n",
       "      <th>if_fielding_alignment</th>\n",
       "      <th>of_fielding_alignment</th>\n",
       "      <th>spin_axis</th>\n",
       "      <th>delta_home_win_exp</th>\n",
       "      <th>delta_run_exp</th>\n",
       "    </tr>\n",
       "  </thead>\n",
       "  <tbody>\n",
       "    <tr>\n",
       "      <th>0</th>\n",
       "      <td>2926</td>\n",
       "      <td>FF</td>\n",
       "      <td>2021-10-03</td>\n",
       "      <td>92.3</td>\n",
       "      <td>1.40</td>\n",
       "      <td>6.80</td>\n",
       "      <td>Smith, Will</td>\n",
       "      <td>596019</td>\n",
       "      <td>519293</td>\n",
       "      <td>field_out</td>\n",
       "      <td>...</td>\n",
       "      <td>5</td>\n",
       "      <td>0</td>\n",
       "      <td>5</td>\n",
       "      <td>0</td>\n",
       "      <td>5</td>\n",
       "      <td>Infield shift</td>\n",
       "      <td>Strategic</td>\n",
       "      <td>148.0</td>\n",
       "      <td>0.000</td>\n",
       "      <td>-0.073</td>\n",
       "    </tr>\n",
       "    <tr>\n",
       "      <th>1</th>\n",
       "      <td>3048</td>\n",
       "      <td>SL</td>\n",
       "      <td>2021-10-03</td>\n",
       "      <td>80.6</td>\n",
       "      <td>1.60</td>\n",
       "      <td>6.64</td>\n",
       "      <td>Smith, Will</td>\n",
       "      <td>596019</td>\n",
       "      <td>519293</td>\n",
       "      <td>NaN</td>\n",
       "      <td>...</td>\n",
       "      <td>5</td>\n",
       "      <td>0</td>\n",
       "      <td>5</td>\n",
       "      <td>0</td>\n",
       "      <td>5</td>\n",
       "      <td>Infield shift</td>\n",
       "      <td>Strategic</td>\n",
       "      <td>315.0</td>\n",
       "      <td>0.000</td>\n",
       "      <td>-0.027</td>\n",
       "    </tr>\n",
       "    <tr>\n",
       "      <th>2</th>\n",
       "      <td>3294</td>\n",
       "      <td>CU</td>\n",
       "      <td>2021-10-03</td>\n",
       "      <td>75.5</td>\n",
       "      <td>1.46</td>\n",
       "      <td>6.88</td>\n",
       "      <td>Smith, Will</td>\n",
       "      <td>596019</td>\n",
       "      <td>519293</td>\n",
       "      <td>NaN</td>\n",
       "      <td>...</td>\n",
       "      <td>5</td>\n",
       "      <td>0</td>\n",
       "      <td>5</td>\n",
       "      <td>0</td>\n",
       "      <td>5</td>\n",
       "      <td>Infield shift</td>\n",
       "      <td>Standard</td>\n",
       "      <td>328.0</td>\n",
       "      <td>0.000</td>\n",
       "      <td>-0.020</td>\n",
       "    </tr>\n",
       "    <tr>\n",
       "      <th>3</th>\n",
       "      <td>3447</td>\n",
       "      <td>CU</td>\n",
       "      <td>2021-10-03</td>\n",
       "      <td>75.0</td>\n",
       "      <td>1.53</td>\n",
       "      <td>6.83</td>\n",
       "      <td>Smith, Will</td>\n",
       "      <td>596019</td>\n",
       "      <td>519293</td>\n",
       "      <td>NaN</td>\n",
       "      <td>...</td>\n",
       "      <td>5</td>\n",
       "      <td>0</td>\n",
       "      <td>5</td>\n",
       "      <td>0</td>\n",
       "      <td>5</td>\n",
       "      <td>Standard</td>\n",
       "      <td>Standard</td>\n",
       "      <td>330.0</td>\n",
       "      <td>0.000</td>\n",
       "      <td>0.016</td>\n",
       "    </tr>\n",
       "    <tr>\n",
       "      <th>4</th>\n",
       "      <td>3545</td>\n",
       "      <td>FF</td>\n",
       "      <td>2021-10-03</td>\n",
       "      <td>91.2</td>\n",
       "      <td>1.49</td>\n",
       "      <td>6.66</td>\n",
       "      <td>Smith, Will</td>\n",
       "      <td>607043</td>\n",
       "      <td>519293</td>\n",
       "      <td>field_out</td>\n",
       "      <td>...</td>\n",
       "      <td>5</td>\n",
       "      <td>0</td>\n",
       "      <td>5</td>\n",
       "      <td>0</td>\n",
       "      <td>5</td>\n",
       "      <td>Standard</td>\n",
       "      <td>Standard</td>\n",
       "      <td>143.0</td>\n",
       "      <td>0.002</td>\n",
       "      <td>-0.189</td>\n",
       "    </tr>\n",
       "  </tbody>\n",
       "</table>\n",
       "<p>5 rows × 93 columns</p>\n",
       "</div>"
      ],
      "text/plain": [
       "   Unnamed: 0 pitch_type   game_date  release_speed  release_pos_x  \\\n",
       "0        2926         FF  2021-10-03           92.3           1.40   \n",
       "1        3048         SL  2021-10-03           80.6           1.60   \n",
       "2        3294         CU  2021-10-03           75.5           1.46   \n",
       "3        3447         CU  2021-10-03           75.0           1.53   \n",
       "4        3545         FF  2021-10-03           91.2           1.49   \n",
       "\n",
       "   release_pos_z  player_name  batter  pitcher     events  ... fld_score  \\\n",
       "0           6.80  Smith, Will  596019   519293  field_out  ...         5   \n",
       "1           6.64  Smith, Will  596019   519293        NaN  ...         5   \n",
       "2           6.88  Smith, Will  596019   519293        NaN  ...         5   \n",
       "3           6.83  Smith, Will  596019   519293        NaN  ...         5   \n",
       "4           6.66  Smith, Will  607043   519293  field_out  ...         5   \n",
       "\n",
       "   post_away_score  post_home_score  post_bat_score  post_fld_score  \\\n",
       "0                0                5               0               5   \n",
       "1                0                5               0               5   \n",
       "2                0                5               0               5   \n",
       "3                0                5               0               5   \n",
       "4                0                5               0               5   \n",
       "\n",
       "   if_fielding_alignment of_fielding_alignment spin_axis delta_home_win_exp  \\\n",
       "0          Infield shift             Strategic     148.0              0.000   \n",
       "1          Infield shift             Strategic     315.0              0.000   \n",
       "2          Infield shift              Standard     328.0              0.000   \n",
       "3               Standard              Standard     330.0              0.000   \n",
       "4               Standard              Standard     143.0              0.002   \n",
       "\n",
       "  delta_run_exp  \n",
       "0        -0.073  \n",
       "1        -0.027  \n",
       "2        -0.020  \n",
       "3         0.016  \n",
       "4        -0.189  \n",
       "\n",
       "[5 rows x 93 columns]"
      ]
     },
     "execution_count": 2,
     "metadata": {},
     "output_type": "execute_result"
    }
   ],
   "source": [
    "df = pd.read_csv('/Users/zacrossman/Downloads/Statcast_2021.csv')\n",
    "df.head()"
   ]
  },
  {
   "cell_type": "markdown",
   "id": "a865e866",
   "metadata": {},
   "source": [
    "This data set contains a lot of data, but we only care about the launch speed, launch angle, and the outcome of the pitch. So lets grab those column specifically. "
   ]
  },
  {
   "cell_type": "code",
   "execution_count": 3,
   "id": "e9673235",
   "metadata": {},
   "outputs": [
    {
     "data": {
      "text/html": [
       "<div>\n",
       "<style scoped>\n",
       "    .dataframe tbody tr th:only-of-type {\n",
       "        vertical-align: middle;\n",
       "    }\n",
       "\n",
       "    .dataframe tbody tr th {\n",
       "        vertical-align: top;\n",
       "    }\n",
       "\n",
       "    .dataframe thead th {\n",
       "        text-align: right;\n",
       "    }\n",
       "</style>\n",
       "<table border=\"1\" class=\"dataframe\">\n",
       "  <thead>\n",
       "    <tr style=\"text-align: right;\">\n",
       "      <th></th>\n",
       "      <th>events</th>\n",
       "      <th>launch_speed</th>\n",
       "      <th>launch_angle</th>\n",
       "    </tr>\n",
       "  </thead>\n",
       "  <tbody>\n",
       "    <tr>\n",
       "      <th>0</th>\n",
       "      <td>field_out</td>\n",
       "      <td>95.2</td>\n",
       "      <td>-13.0</td>\n",
       "    </tr>\n",
       "    <tr>\n",
       "      <th>1</th>\n",
       "      <td>NaN</td>\n",
       "      <td>75.3</td>\n",
       "      <td>75.0</td>\n",
       "    </tr>\n",
       "    <tr>\n",
       "      <th>2</th>\n",
       "      <td>NaN</td>\n",
       "      <td>83.5</td>\n",
       "      <td>65.0</td>\n",
       "    </tr>\n",
       "    <tr>\n",
       "      <th>3</th>\n",
       "      <td>NaN</td>\n",
       "      <td>NaN</td>\n",
       "      <td>NaN</td>\n",
       "    </tr>\n",
       "    <tr>\n",
       "      <th>4</th>\n",
       "      <td>field_out</td>\n",
       "      <td>93.3</td>\n",
       "      <td>-18.0</td>\n",
       "    </tr>\n",
       "  </tbody>\n",
       "</table>\n",
       "</div>"
      ],
      "text/plain": [
       "      events  launch_speed  launch_angle\n",
       "0  field_out          95.2         -13.0\n",
       "1        NaN          75.3          75.0\n",
       "2        NaN          83.5          65.0\n",
       "3        NaN           NaN           NaN\n",
       "4  field_out          93.3         -18.0"
      ]
     },
     "execution_count": 3,
     "metadata": {},
     "output_type": "execute_result"
    }
   ],
   "source": [
    "df = df[['events', 'launch_speed', 'launch_angle']]\n",
    "df.head()"
   ]
  },
  {
   "cell_type": "markdown",
   "id": "aeda6730",
   "metadata": {},
   "source": [
    "Just looking at our first five rows, we can see that not every pitch results in an outcome. These pitches are usually either taken strikes, taken balls, or foul balls that are not caught. Lets go ahead and delete those rows."
   ]
  },
  {
   "cell_type": "code",
   "execution_count": 4,
   "id": "8b040e5b",
   "metadata": {},
   "outputs": [
    {
     "data": {
      "text/html": [
       "<div>\n",
       "<style scoped>\n",
       "    .dataframe tbody tr th:only-of-type {\n",
       "        vertical-align: middle;\n",
       "    }\n",
       "\n",
       "    .dataframe tbody tr th {\n",
       "        vertical-align: top;\n",
       "    }\n",
       "\n",
       "    .dataframe thead th {\n",
       "        text-align: right;\n",
       "    }\n",
       "</style>\n",
       "<table border=\"1\" class=\"dataframe\">\n",
       "  <thead>\n",
       "    <tr style=\"text-align: right;\">\n",
       "      <th></th>\n",
       "      <th>events</th>\n",
       "      <th>launch_speed</th>\n",
       "      <th>launch_angle</th>\n",
       "    </tr>\n",
       "  </thead>\n",
       "  <tbody>\n",
       "    <tr>\n",
       "      <th>0</th>\n",
       "      <td>field_out</td>\n",
       "      <td>95.2</td>\n",
       "      <td>-13.0</td>\n",
       "    </tr>\n",
       "    <tr>\n",
       "      <th>4</th>\n",
       "      <td>field_out</td>\n",
       "      <td>93.3</td>\n",
       "      <td>-18.0</td>\n",
       "    </tr>\n",
       "    <tr>\n",
       "      <th>9</th>\n",
       "      <td>field_out</td>\n",
       "      <td>75.3</td>\n",
       "      <td>65.0</td>\n",
       "    </tr>\n",
       "    <tr>\n",
       "      <th>18</th>\n",
       "      <td>field_out</td>\n",
       "      <td>96.8</td>\n",
       "      <td>18.0</td>\n",
       "    </tr>\n",
       "    <tr>\n",
       "      <th>27</th>\n",
       "      <td>field_out</td>\n",
       "      <td>91.8</td>\n",
       "      <td>29.0</td>\n",
       "    </tr>\n",
       "  </tbody>\n",
       "</table>\n",
       "</div>"
      ],
      "text/plain": [
       "       events  launch_speed  launch_angle\n",
       "0   field_out          95.2         -13.0\n",
       "4   field_out          93.3         -18.0\n",
       "9   field_out          75.3          65.0\n",
       "18  field_out          96.8          18.0\n",
       "27  field_out          91.8          29.0"
      ]
     },
     "execution_count": 4,
     "metadata": {},
     "output_type": "execute_result"
    }
   ],
   "source": [
    "df.dropna(axis = 0, inplace = True)\n",
    "df.head()"
   ]
  },
  {
   "cell_type": "markdown",
   "id": "f9b92be1",
   "metadata": {},
   "source": [
    "Now our data consists only of pitches that result in an outcome, either a hit or an out. Lets see all of the different outcomes in our data. "
   ]
  },
  {
   "cell_type": "code",
   "execution_count": 5,
   "id": "154e4a95",
   "metadata": {},
   "outputs": [
    {
     "name": "stdout",
     "output_type": "stream",
     "text": [
      "Unique Play Results\n",
      "['field_out' 'grounded_into_double_play' 'single' 'sac_bunt' 'double'\n",
      " 'home_run' 'force_out' 'triple' 'field_error' 'sac_fly' 'double_play'\n",
      " 'fielders_choice' 'fielders_choice_out' 'sac_fly_double_play'\n",
      " 'catcher_interf' 'sac_bunt_double_play' 'triple_play' 'game_advisory']\n"
     ]
    }
   ],
   "source": [
    "unique_plays = df['events'].unique()\n",
    "print('Unique Play Results')\n",
    "print(unique_plays)"
   ]
  },
  {
   "cell_type": "markdown",
   "id": "46348666",
   "metadata": {},
   "source": [
    "That's a lot of unique outcomes. The events 'field_out', 'grounded_into_double_play', 'force_out', 'field_error', 'fielders_choice_out', 'double_play, and 'triple_play' are all considered outs, and count against one's batting average. The events 'single', 'double', 'triple', 'fielders_choice' and 'home_run' are all hits, and count for one's batting average. Lets convert the hits into 1's and the outs into 0's. "
   ]
  },
  {
   "cell_type": "code",
   "execution_count": 6,
   "id": "2e86f33d",
   "metadata": {},
   "outputs": [
    {
     "data": {
      "text/html": [
       "<div>\n",
       "<style scoped>\n",
       "    .dataframe tbody tr th:only-of-type {\n",
       "        vertical-align: middle;\n",
       "    }\n",
       "\n",
       "    .dataframe tbody tr th {\n",
       "        vertical-align: top;\n",
       "    }\n",
       "\n",
       "    .dataframe thead th {\n",
       "        text-align: right;\n",
       "    }\n",
       "</style>\n",
       "<table border=\"1\" class=\"dataframe\">\n",
       "  <thead>\n",
       "    <tr style=\"text-align: right;\">\n",
       "      <th></th>\n",
       "      <th>events</th>\n",
       "      <th>launch_speed</th>\n",
       "      <th>launch_angle</th>\n",
       "    </tr>\n",
       "  </thead>\n",
       "  <tbody>\n",
       "    <tr>\n",
       "      <th>0</th>\n",
       "      <td>0</td>\n",
       "      <td>95.2</td>\n",
       "      <td>-13.0</td>\n",
       "    </tr>\n",
       "    <tr>\n",
       "      <th>4</th>\n",
       "      <td>0</td>\n",
       "      <td>93.3</td>\n",
       "      <td>-18.0</td>\n",
       "    </tr>\n",
       "    <tr>\n",
       "      <th>9</th>\n",
       "      <td>0</td>\n",
       "      <td>75.3</td>\n",
       "      <td>65.0</td>\n",
       "    </tr>\n",
       "    <tr>\n",
       "      <th>18</th>\n",
       "      <td>0</td>\n",
       "      <td>96.8</td>\n",
       "      <td>18.0</td>\n",
       "    </tr>\n",
       "    <tr>\n",
       "      <th>27</th>\n",
       "      <td>0</td>\n",
       "      <td>91.8</td>\n",
       "      <td>29.0</td>\n",
       "    </tr>\n",
       "  </tbody>\n",
       "</table>\n",
       "</div>"
      ],
      "text/plain": [
       "   events  launch_speed  launch_angle\n",
       "0       0          95.2         -13.0\n",
       "4       0          93.3         -18.0\n",
       "9       0          75.3          65.0\n",
       "18      0          96.8          18.0\n",
       "27      0          91.8          29.0"
      ]
     },
     "execution_count": 6,
     "metadata": {},
     "output_type": "execute_result"
    }
   ],
   "source": [
    "df['events'].replace('field_out', 0, inplace = True)\n",
    "df['events'].replace('grounded_into_double_play', 0, inplace = True)\n",
    "df['events'].replace('force_out', 0, inplace = True)\n",
    "df['events'].replace('field_error', 0, inplace = True)\n",
    "df['events'].replace('fielders_choice_out', 0, inplace = True)\n",
    "df['events'].replace('double_play', 0, inplace = True)\n",
    "df['events'].replace('triple_play', 0, inplace = True)\n",
    "df['events'].replace('single', 1, inplace = True)\n",
    "df['events'].replace('double', 1, inplace = True)\n",
    "df['events'].replace('triple', 1, inplace = True)\n",
    "df['events'].replace('home_run', 1, inplace = True)\n",
    "df['events'].replace('fielders_choice', 1, inplace = True)\n",
    "df.head()"
   ]
  },
  {
   "cell_type": "markdown",
   "id": "e771019c",
   "metadata": {},
   "source": [
    "Let's take a look at our remaining unique events."
   ]
  },
  {
   "cell_type": "code",
   "execution_count": 7,
   "id": "33c03a14",
   "metadata": {},
   "outputs": [
    {
     "name": "stdout",
     "output_type": "stream",
     "text": [
      "Unique Event Totals\n",
      "0                       79612\n",
      "1                       39802\n",
      "sac_fly                  1126\n",
      "sac_bunt                  756\n",
      "sac_fly_double_play        17\n",
      "catcher_interf              3\n",
      "sac_bunt_double_play        2\n",
      "game_advisory               1\n",
      "Name: events, dtype: int64\n"
     ]
    }
   ],
   "source": [
    "results = df['events'].value_counts()\n",
    "print('Unique Event Totals')\n",
    "print(results)"
   ]
  },
  {
   "cell_type": "markdown",
   "id": "2f142cdc",
   "metadata": {},
   "source": [
    "The remaining events here don't hurt or help a player's batting average, so lets just leave those rows out. "
   ]
  },
  {
   "cell_type": "code",
   "execution_count": 8,
   "id": "f6619f57",
   "metadata": {},
   "outputs": [
    {
     "name": "stdout",
     "output_type": "stream",
     "text": [
      "Event Totals\n",
      "0    79612\n",
      "1    39802\n",
      "Name: events, dtype: int64\n"
     ]
    }
   ],
   "source": [
    "df = df.loc[(df['events'] == 1) | (df['events'] == 0)]\n",
    "results = df['events'].value_counts()\n",
    "print('Event Totals')\n",
    "print(results)"
   ]
  },
  {
   "cell_type": "markdown",
   "id": "36ffe92c",
   "metadata": {},
   "source": [
    "Now our data conists of only the rows that we want, so were ready to move on. Lets now convert our feature columns and label column into arrays, and the split the data into train and test subsets."
   ]
  },
  {
   "cell_type": "code",
   "execution_count": 9,
   "id": "93b6be4c",
   "metadata": {},
   "outputs": [
    {
     "name": "stdout",
     "output_type": "stream",
     "text": [
      "Training data shape: (107472, 2) (107472,)\n",
      "\n",
      "Test data shape: (11942, 2) (11942,)\n"
     ]
    }
   ],
   "source": [
    "X = np.array(df[['launch_speed', 'launch_angle']])\n",
    "y = np.array(df['events'])\n",
    "X_train, X_test, y_train, y_test = train_test_split(X, y, test_size = .1, random_state = 0)\n",
    "print('Training data shape:',X_train.shape, y_train.shape)\n",
    "print()\n",
    "print('Test data shape:', X_test.shape, y_test.shape)"
   ]
  },
  {
   "cell_type": "markdown",
   "id": "ad3f7589",
   "metadata": {},
   "source": [
    "## Training and Implementing our Model"
   ]
  },
  {
   "cell_type": "markdown",
   "id": "99d98292",
   "metadata": {},
   "source": [
    "Now lets train our data with the linear regression model."
   ]
  },
  {
   "cell_type": "code",
   "execution_count": 10,
   "id": "89d247eb",
   "metadata": {},
   "outputs": [],
   "source": [
    "regressor = LinearRegression()\n",
    "regressor.fit(X_train, y_train)\n",
    "y_pred = regressor.predict(X_test)"
   ]
  },
  {
   "cell_type": "markdown",
   "id": "ee83e78b",
   "metadata": {},
   "source": [
    "Lets take a look at some of our predictions against some actual results."
   ]
  },
  {
   "cell_type": "code",
   "execution_count": 11,
   "id": "79dcfd80",
   "metadata": {},
   "outputs": [
    {
     "name": "stdout",
     "output_type": "stream",
     "text": [
      "Comparison [y_test, y_pred]\n",
      "[[1, 0.41208235912630153], [0, -0.1501122324471083], [0, 0.3498322384532113], [1, 0.19093742802962932], [0, 0.2040234066100438], [1, 0.3057551268851153], [0, 0.3757732192026676], [1, 0.4759718833972614], [0, 0.27915046710408253], [0, 0.4103475768369933]]\n"
     ]
    }
   ],
   "source": [
    "comparison = []\n",
    "for i in range(len(y_test)):\n",
    "    a_list = []\n",
    "    a_list.append(y_test[i])\n",
    "    a_list.append(y_pred[i])\n",
    "    comparison.append(a_list)\n",
    "print('Comparison [y_test, y_pred]')\n",
    "print(comparison[:10])"
   ]
  },
  {
   "cell_type": "markdown",
   "id": "d0b48282",
   "metadata": {},
   "source": [
    "Our model returns a value between 0 and 1. Lets try and declare anything greater than .5 as a hit, and anything less than .5 as an out, and see how accurate we can get. Let's first see how many outs and hits we have in our test data."
   ]
  },
  {
   "cell_type": "code",
   "execution_count": 12,
   "id": "8ba1c76c",
   "metadata": {},
   "outputs": [],
   "source": [
    "hit_threshold = 0.5"
   ]
  },
  {
   "cell_type": "code",
   "execution_count": 13,
   "id": "affd867d",
   "metadata": {},
   "outputs": [
    {
     "name": "stdout",
     "output_type": "stream",
     "text": [
      "y_test Hit, Out Totals: 4063 , 7879\n"
     ]
    }
   ],
   "source": [
    "y_test_hits = 0\n",
    "y_test_outs = 0\n",
    "for element in y_test:\n",
    "    if element == 0:\n",
    "        y_test_outs += 1\n",
    "    else:\n",
    "        y_test_hits += 1\n",
    "print('y_test Hit, Out Totals:', y_test_hits,',', y_test_outs)"
   ]
  },
  {
   "cell_type": "markdown",
   "id": "6a0b3647",
   "metadata": {},
   "source": [
    "Lets compare these numbers to our prediction totals."
   ]
  },
  {
   "cell_type": "code",
   "execution_count": 14,
   "id": "34f5105e",
   "metadata": {},
   "outputs": [
    {
     "name": "stdout",
     "output_type": "stream",
     "text": [
      "y_pred Hit, Out Totals: 384 , 11558\n"
     ]
    }
   ],
   "source": [
    "y_pred_hits = 0\n",
    "y_pred_outs = 0\n",
    "for element in y_pred:\n",
    "    if element >= hit_threshold:\n",
    "        y_pred_hits += 1\n",
    "    else:\n",
    "        y_pred_outs += 1\n",
    "print('y_pred Hit, Out Totals:', y_pred_hits, ',', y_pred_outs)"
   ]
  },
  {
   "cell_type": "markdown",
   "id": "7b96c92c",
   "metadata": {},
   "source": [
    "It looks like our model is predicting way more outs than hits. Lets invesitage by looking at our average prediction score for all actual hits, and do the same thing for all actual outs."
   ]
  },
  {
   "cell_type": "code",
   "execution_count": 15,
   "id": "68bea9e8",
   "metadata": {},
   "outputs": [
    {
     "name": "stdout",
     "output_type": "stream",
     "text": [
      "Average Prediction Scores for Outs, Hits\n",
      "0.3108343148316676 0.37593365796899375\n"
     ]
    }
   ],
   "source": [
    "hit_total = 0\n",
    "hit_total_pred = 0\n",
    "out_total = 0\n",
    "out_total_pred = 0\n",
    "for row in comparison:\n",
    "    if row[0] == 0:\n",
    "        out_total += 1\n",
    "        out_total_pred += row[1]\n",
    "    else:\n",
    "        hit_total += 1\n",
    "        hit_total_pred += row[1]\n",
    "avg_hit_pred = hit_total_pred / hit_total\n",
    "avg_out_pred = out_total_pred / out_total\n",
    "print('Average Prediction Scores for Outs, Hits')\n",
    "print(avg_out_pred, avg_hit_pred)"
   ]
  },
  {
   "cell_type": "markdown",
   "id": "c00bb28a",
   "metadata": {},
   "source": [
    "Our model does have a higher score on average for hits than outs, which is good. However, it's only a difference of .06, which is not as high as we would hope. We also would have expected our model to give a score of over .5 for hits, and instead it is much lower, at .376 on average. Let's do some more investigation."
   ]
  },
  {
   "cell_type": "markdown",
   "id": "6a853f0e",
   "metadata": {},
   "source": [
    "Let's see how the model does on hits and outs separately. "
   ]
  },
  {
   "cell_type": "code",
   "execution_count": 16,
   "id": "b0a92d5e",
   "metadata": {},
   "outputs": [
    {
     "name": "stdout",
     "output_type": "stream",
     "text": [
      "Prediction accuracy on hits: 0.06226925916810239\n",
      "Prediction accuracy on outs: 0.9833735245589542\n",
      "Total Accuracy: 0.6699882766705745\n"
     ]
    }
   ],
   "source": [
    "#Hit accuracy\n",
    "hit_list = []\n",
    "for row in comparison:\n",
    "    if row[0] == 1:\n",
    "        hit_list.append(row)\n",
    "hit_correct = 0\n",
    "for element in hit_list:\n",
    "    if element[1] >= hit_threshold:\n",
    "        hit_correct += 1\n",
    "hit_pred_accuracy = hit_correct / len(hit_list)\n",
    "print('Prediction accuracy on hits:', hit_pred_accuracy)\n",
    "\n",
    "#Our accuracy\n",
    "out_list = []\n",
    "for row in comparison:\n",
    "    if row[0] == 0:\n",
    "        out_list.append(row)\n",
    "out_correct = 0\n",
    "for element in out_list:\n",
    "    if element[1] <= hit_threshold:\n",
    "        out_correct += 1\n",
    "out_pred_accuracy = out_correct / len(out_list)\n",
    "print('Prediction accuracy on outs:', out_pred_accuracy)\n",
    "\n",
    "#Total accuracy\n",
    "total_correct = 0\n",
    "for row in comparison:\n",
    "    if row[0] == 1 and row[1] >= hit_threshold:\n",
    "        total_correct += 1\n",
    "    elif row[0] == 0 and row[1] < hit_threshold:\n",
    "        total_correct += 1\n",
    "accuracy = total_correct / len(comparison)\n",
    "print('Total Accuracy:', accuracy)"
   ]
  },
  {
   "cell_type": "markdown",
   "id": "4ad6bc1a",
   "metadata": {},
   "source": [
    "Our model is heavily favoring outs, and not giving enough hits. Our total accuracy is coming in at about 67%, which is better than someone with no baseball knowledge giving out random guesses. Earlier we saw that our test data has 4063 hits, and 7879 outs. This means that the batting average in our test data is .340. So if someone were to guess 'out' on every instance in our test data, they would have an accuracy of 66%, which is just slightly worse than our model. Since our model leans so heavily towards outs, lets lower our hit threshold to 0.416 and see if we can be more accurate. "
   ]
  },
  {
   "cell_type": "code",
   "execution_count": 17,
   "id": "6691ccbc",
   "metadata": {},
   "outputs": [],
   "source": [
    "hit_threshold = 0.416"
   ]
  },
  {
   "cell_type": "code",
   "execution_count": 18,
   "id": "b0bd5bd5",
   "metadata": {},
   "outputs": [
    {
     "name": "stdout",
     "output_type": "stream",
     "text": [
      "y_pred Hit, Out Totals: 3363 , 8579\n"
     ]
    }
   ],
   "source": [
    "y_pred_hits = 0\n",
    "y_pred_outs = 0\n",
    "for element in y_pred:\n",
    "    if element >= hit_threshold:\n",
    "        y_pred_hits += 1\n",
    "    else:\n",
    "        y_pred_outs += 1\n",
    "print('y_pred Hit, Out Totals:', y_pred_hits, ',', y_pred_outs)"
   ]
  },
  {
   "cell_type": "code",
   "execution_count": 19,
   "id": "37b6af39",
   "metadata": {},
   "outputs": [
    {
     "name": "stdout",
     "output_type": "stream",
     "text": [
      "Prediction accuracy on hits: 0.4708343588481418\n",
      "Prediction accuracy on outs: 0.8159664932097982\n",
      "Total Accuracy: 0.6985429576285379\n"
     ]
    }
   ],
   "source": [
    "#Hit accuracy\n",
    "hit_list = []\n",
    "for row in comparison:\n",
    "    if row[0] == 1:\n",
    "        hit_list.append(row)\n",
    "hit_correct = 0\n",
    "for element in hit_list:\n",
    "    if element[1] >= hit_threshold:\n",
    "        hit_correct += 1\n",
    "hit_pred_accuracy = hit_correct / len(hit_list)\n",
    "print('Prediction accuracy on hits:', hit_pred_accuracy)\n",
    "\n",
    "#Our accuracy\n",
    "out_list = []\n",
    "for row in comparison:\n",
    "    if row[0] == 0:\n",
    "        out_list.append(row)\n",
    "out_correct = 0\n",
    "for element in out_list:\n",
    "    if element[1] <= hit_threshold:\n",
    "        out_correct += 1\n",
    "out_pred_accuracy = out_correct / len(out_list)\n",
    "print('Prediction accuracy on outs:', out_pred_accuracy)\n",
    "\n",
    "#Total accuracy\n",
    "total_correct = 0\n",
    "for row in comparison:\n",
    "    if row[0] == 1 and row[1] >= hit_threshold:\n",
    "        total_correct += 1\n",
    "    elif row[0] == 0 and row[1] < hit_threshold:\n",
    "        total_correct += 1\n",
    "accuracy = total_correct / len(comparison)\n",
    "print('Total Accuracy:', accuracy)"
   ]
  },
  {
   "cell_type": "markdown",
   "id": "a4b8c800",
   "metadata": {},
   "source": [
    "Lowering our hit threshold increased our accuracy by about 3% which is pretty signifiant. We are now just under 70% accurate. "
   ]
  },
  {
   "cell_type": "markdown",
   "id": "7d5d00fc",
   "metadata": {},
   "source": [
    "## Conclusion"
   ]
  },
  {
   "cell_type": "markdown",
   "id": "c8dc7e77",
   "metadata": {},
   "source": [
    "Using a simple multivariable regression model, we were able to create a program that predicts hits and outs based on exit velocity and launch angle. Our model predicts with accuracy around 70%. This is solid, considering a person giving random guesses would on average predict with 50% accuracy, and a person guessing 'out' in each instance would top out around 66%. "
   ]
  }
 ],
 "metadata": {
  "kernelspec": {
   "display_name": "Python 3 (ipykernel)",
   "language": "python",
   "name": "python3"
  },
  "language_info": {
   "codemirror_mode": {
    "name": "ipython",
    "version": 3
   },
   "file_extension": ".py",
   "mimetype": "text/x-python",
   "name": "python",
   "nbconvert_exporter": "python",
   "pygments_lexer": "ipython3",
   "version": "3.9.13"
  }
 },
 "nbformat": 4,
 "nbformat_minor": 5
}
